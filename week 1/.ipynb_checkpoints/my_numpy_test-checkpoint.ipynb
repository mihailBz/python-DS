{
 "cells": [
  {
   "cell_type": "code",
   "execution_count": 31,
   "id": "noted-sequence",
   "metadata": {},
   "outputs": [],
   "source": [
    "import numpy as np"
   ]
  },
  {
   "cell_type": "code",
   "execution_count": 32,
   "id": "tamil-waterproof",
   "metadata": {},
   "outputs": [],
   "source": [
    "a = np.array([\n",
    "    [3, 3, 3],\n",
    "    [1, 3, 4],\n",
    "    [7, 1, 3]\n",
    "])\n",
    "b = np.array([3, 3, 3, 1, 3, 4, 7, 1, 3])"
   ]
  },
  {
   "cell_type": "code",
   "execution_count": 33,
   "id": "accessible-bibliography",
   "metadata": {},
   "outputs": [
    {
     "data": {
      "text/plain": [
       "array([1, 3, 4, 7])"
      ]
     },
     "execution_count": 33,
     "metadata": {},
     "output_type": "execute_result"
    }
   ],
   "source": [
    "np.unique(a)\n"
   ]
  },
  {
   "cell_type": "code",
   "execution_count": 34,
   "id": "technical-output",
   "metadata": {},
   "outputs": [
    {
     "data": {
      "text/plain": [
       "array([1, 3, 4, 7])"
      ]
     },
     "execution_count": 34,
     "metadata": {},
     "output_type": "execute_result"
    }
   ],
   "source": [
    "np.unique(b)"
   ]
  },
  {
   "cell_type": "code",
   "execution_count": 39,
   "id": "continental-paint",
   "metadata": {},
   "outputs": [],
   "source": [
    "z = np.array([92, 13, 44, 555, 1, -3])\n",
    "z = np.flip(z)"
   ]
  },
  {
   "cell_type": "code",
   "execution_count": 40,
   "id": "breeding-subscriber",
   "metadata": {},
   "outputs": [
    {
     "data": {
      "text/plain": [
       "13"
      ]
     },
     "execution_count": 40,
     "metadata": {},
     "output_type": "execute_result"
    }
   ],
   "source": [
    "z[4]"
   ]
  },
  {
   "cell_type": "code",
   "execution_count": 45,
   "id": "voluntary-contrast",
   "metadata": {},
   "outputs": [
    {
     "name": "stdout",
     "output_type": "stream",
     "text": [
      "[1. 1. 1. 1. 1.] [2. 2. 2. 2. 2.]\n"
     ]
    }
   ],
   "source": [
    "vec1 = np.ones(5)\n",
    "vec2 = 2*np.ones(5)\n",
    "print(vec1, vec2)"
   ]
  },
  {
   "cell_type": "code",
   "execution_count": 46,
   "id": "robust-initial",
   "metadata": {},
   "outputs": [
    {
     "data": {
      "text/plain": [
       "10.0"
      ]
     },
     "execution_count": 46,
     "metadata": {},
     "output_type": "execute_result"
    }
   ],
   "source": [
    "res = vec1.dot(vec2)\n",
    "res"
   ]
  },
  {
   "cell_type": "code",
   "execution_count": 47,
   "id": "circular-penetration",
   "metadata": {},
   "outputs": [
    {
     "data": {
      "text/plain": [
       "array([[47, 37, 50, 13],\n",
       "       [32, 45, 58, 13],\n",
       "       [41, 25, 29,  4]])"
      ]
     },
     "execution_count": 47,
     "metadata": {},
     "output_type": "execute_result"
    }
   ],
   "source": [
    "m1 = np.array([\n",
    "    [0, 9, 19, 13],\n",
    "    [1, 20, 5, 13],\n",
    "    [12, 11, 3, 4]\n",
    "])\n",
    "m2 = np.array([\n",
    "    [2, 0, 0, 0],\n",
    "    [1, 2, 2, 0],\n",
    "    [2, 1, 1, 0],\n",
    "    [0, 0, 1, 1]\n",
    "])\n",
    "\n",
    "res = m1.dot(m2)\n",
    "res"
   ]
  },
  {
   "cell_type": "code",
   "execution_count": 49,
   "id": "clinical-memphis",
   "metadata": {},
   "outputs": [
    {
     "name": "stdout",
     "output_type": "stream",
     "text": [
      "47\n",
      "45\n",
      "29\n"
     ]
    }
   ],
   "source": [
    "for i in range(len(res)):\n",
    "    print(res[i, i])"
   ]
  },
  {
   "cell_type": "code",
   "execution_count": 50,
   "id": "neural-minneapolis",
   "metadata": {},
   "outputs": [
    {
     "data": {
      "text/plain": [
       "4.875"
      ]
     },
     "execution_count": 50,
     "metadata": {},
     "output_type": "execute_result"
    }
   ],
   "source": [
    "np.mean(np.array([\n",
    "    [-1, 33, 4, 1],\n",
    "    [0, 1, 1, 0]\n",
    "]))"
   ]
  },
  {
   "cell_type": "code",
   "execution_count": 51,
   "id": "compressed-square",
   "metadata": {},
   "outputs": [
    {
     "data": {
      "text/plain": [
       "-1.9984014443252774e-15"
      ]
     },
     "execution_count": 51,
     "metadata": {},
     "output_type": "execute_result"
    }
   ],
   "source": [
    "np.linalg.det(np.array([\n",
    "    [6, 0, 3],\n",
    "    [0, -1, 2],\n",
    "    [12, 3, 0]\n",
    "]))"
   ]
  },
  {
   "cell_type": "code",
   "execution_count": 52,
   "id": "stupid-healthcare",
   "metadata": {},
   "outputs": [
    {
     "name": "stdout",
     "output_type": "stream",
     "text": [
      "[-1.  1.  3.  3.]\n"
     ]
    }
   ],
   "source": [
    "eigenvalues, eigenvecs = np.linalg.eig(np.array([\n",
    "    [1, -1, -1, 0],\n",
    "    [-1, 2, -1, -1],\n",
    "    [-1, -1, 2, -1],\n",
    "    [0, -1, -1, 1]\n",
    "]))\n",
    "print(eigenvalues)"
   ]
  },
  {
   "cell_type": "code",
   "execution_count": 54,
   "id": "portable-sound",
   "metadata": {},
   "outputs": [
    {
     "data": {
      "text/plain": [
       "2.6999999999999993"
      ]
     },
     "execution_count": 54,
     "metadata": {},
     "output_type": "execute_result"
    }
   ],
   "source": [
    "res = np.linalg.inv(np.array([\n",
    "    [2, 4, 0, 4, 1],\n",
    "    [2, 4, 1, 1, 0],\n",
    "    [1, 1, 1, 2, 2],\n",
    "    [0, 1, 3, 2, 4],\n",
    "    [2, 2, 2, 0, 2]\n",
    "]))\n",
    "sum = 0\n",
    "for i in range(len(res)):\n",
    "    sum += res[i, i]\n",
    "\n",
    "sum    "
   ]
  },
  {
   "cell_type": "code",
   "execution_count": null,
   "id": "postal-drain",
   "metadata": {},
   "outputs": [],
   "source": []
  }
 ],
 "metadata": {
  "kernelspec": {
   "display_name": "Python 3",
   "language": "python",
   "name": "python3"
  },
  "language_info": {
   "codemirror_mode": {
    "name": "ipython",
    "version": 3
   },
   "file_extension": ".py",
   "mimetype": "text/x-python",
   "name": "python",
   "nbconvert_exporter": "python",
   "pygments_lexer": "ipython3",
   "version": "3.6.12"
  }
 },
 "nbformat": 4,
 "nbformat_minor": 5
}
