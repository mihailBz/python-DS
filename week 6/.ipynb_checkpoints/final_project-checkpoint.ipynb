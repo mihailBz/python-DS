{
 "cells": [
  {
   "cell_type": "code",
   "execution_count": null,
   "id": "67cb9d5e",
   "metadata": {},
   "outputs": [],
   "source": [
    "import numpy as np\n",
    "import pandas as pd\n",
    "import matplotlib.pyplot as plt\n",
    "from sklearn.model_selection import train_test_split\n",
    "import tensorflow as tf"
   ]
  },
  {
   "cell_type": "code",
   "execution_count": 26,
   "id": "3616948e",
   "metadata": {},
   "outputs": [
    {
     "data": {
      "text/html": [
       "<div>\n",
       "<style scoped>\n",
       "    .dataframe tbody tr th:only-of-type {\n",
       "        vertical-align: middle;\n",
       "    }\n",
       "\n",
       "    .dataframe tbody tr th {\n",
       "        vertical-align: top;\n",
       "    }\n",
       "\n",
       "    .dataframe thead th {\n",
       "        text-align: right;\n",
       "    }\n",
       "</style>\n",
       "<table border=\"1\" class=\"dataframe\">\n",
       "  <thead>\n",
       "    <tr style=\"text-align: right;\">\n",
       "      <th></th>\n",
       "      <th>label</th>\n",
       "      <th>pixel1</th>\n",
       "      <th>pixel2</th>\n",
       "      <th>pixel3</th>\n",
       "      <th>pixel4</th>\n",
       "      <th>pixel5</th>\n",
       "      <th>pixel6</th>\n",
       "      <th>pixel7</th>\n",
       "      <th>pixel8</th>\n",
       "      <th>pixel9</th>\n",
       "      <th>...</th>\n",
       "      <th>pixel775</th>\n",
       "      <th>pixel776</th>\n",
       "      <th>pixel777</th>\n",
       "      <th>pixel778</th>\n",
       "      <th>pixel779</th>\n",
       "      <th>pixel780</th>\n",
       "      <th>pixel781</th>\n",
       "      <th>pixel782</th>\n",
       "      <th>pixel783</th>\n",
       "      <th>pixel784</th>\n",
       "    </tr>\n",
       "  </thead>\n",
       "  <tbody>\n",
       "    <tr>\n",
       "      <th>0</th>\n",
       "      <td>2</td>\n",
       "      <td>0</td>\n",
       "      <td>0</td>\n",
       "      <td>0</td>\n",
       "      <td>0</td>\n",
       "      <td>0</td>\n",
       "      <td>0</td>\n",
       "      <td>0</td>\n",
       "      <td>0</td>\n",
       "      <td>0</td>\n",
       "      <td>...</td>\n",
       "      <td>0</td>\n",
       "      <td>0</td>\n",
       "      <td>0</td>\n",
       "      <td>0</td>\n",
       "      <td>0</td>\n",
       "      <td>0</td>\n",
       "      <td>0</td>\n",
       "      <td>0</td>\n",
       "      <td>0</td>\n",
       "      <td>0</td>\n",
       "    </tr>\n",
       "    <tr>\n",
       "      <th>1</th>\n",
       "      <td>9</td>\n",
       "      <td>0</td>\n",
       "      <td>0</td>\n",
       "      <td>0</td>\n",
       "      <td>0</td>\n",
       "      <td>0</td>\n",
       "      <td>0</td>\n",
       "      <td>0</td>\n",
       "      <td>0</td>\n",
       "      <td>0</td>\n",
       "      <td>...</td>\n",
       "      <td>0</td>\n",
       "      <td>0</td>\n",
       "      <td>0</td>\n",
       "      <td>0</td>\n",
       "      <td>0</td>\n",
       "      <td>0</td>\n",
       "      <td>0</td>\n",
       "      <td>0</td>\n",
       "      <td>0</td>\n",
       "      <td>0</td>\n",
       "    </tr>\n",
       "    <tr>\n",
       "      <th>2</th>\n",
       "      <td>6</td>\n",
       "      <td>0</td>\n",
       "      <td>0</td>\n",
       "      <td>0</td>\n",
       "      <td>0</td>\n",
       "      <td>0</td>\n",
       "      <td>0</td>\n",
       "      <td>0</td>\n",
       "      <td>5</td>\n",
       "      <td>0</td>\n",
       "      <td>...</td>\n",
       "      <td>0</td>\n",
       "      <td>0</td>\n",
       "      <td>0</td>\n",
       "      <td>30</td>\n",
       "      <td>43</td>\n",
       "      <td>0</td>\n",
       "      <td>0</td>\n",
       "      <td>0</td>\n",
       "      <td>0</td>\n",
       "      <td>0</td>\n",
       "    </tr>\n",
       "    <tr>\n",
       "      <th>3</th>\n",
       "      <td>0</td>\n",
       "      <td>0</td>\n",
       "      <td>0</td>\n",
       "      <td>0</td>\n",
       "      <td>1</td>\n",
       "      <td>2</td>\n",
       "      <td>0</td>\n",
       "      <td>0</td>\n",
       "      <td>0</td>\n",
       "      <td>0</td>\n",
       "      <td>...</td>\n",
       "      <td>3</td>\n",
       "      <td>0</td>\n",
       "      <td>0</td>\n",
       "      <td>0</td>\n",
       "      <td>0</td>\n",
       "      <td>1</td>\n",
       "      <td>0</td>\n",
       "      <td>0</td>\n",
       "      <td>0</td>\n",
       "      <td>0</td>\n",
       "    </tr>\n",
       "    <tr>\n",
       "      <th>4</th>\n",
       "      <td>3</td>\n",
       "      <td>0</td>\n",
       "      <td>0</td>\n",
       "      <td>0</td>\n",
       "      <td>0</td>\n",
       "      <td>0</td>\n",
       "      <td>0</td>\n",
       "      <td>0</td>\n",
       "      <td>0</td>\n",
       "      <td>0</td>\n",
       "      <td>...</td>\n",
       "      <td>0</td>\n",
       "      <td>0</td>\n",
       "      <td>0</td>\n",
       "      <td>0</td>\n",
       "      <td>0</td>\n",
       "      <td>0</td>\n",
       "      <td>0</td>\n",
       "      <td>0</td>\n",
       "      <td>0</td>\n",
       "      <td>0</td>\n",
       "    </tr>\n",
       "  </tbody>\n",
       "</table>\n",
       "<p>5 rows × 785 columns</p>\n",
       "</div>"
      ],
      "text/plain": [
       "   label  pixel1  pixel2  pixel3  pixel4  pixel5  pixel6  pixel7  pixel8  \\\n",
       "0      2       0       0       0       0       0       0       0       0   \n",
       "1      9       0       0       0       0       0       0       0       0   \n",
       "2      6       0       0       0       0       0       0       0       5   \n",
       "3      0       0       0       0       1       2       0       0       0   \n",
       "4      3       0       0       0       0       0       0       0       0   \n",
       "\n",
       "   pixel9  ...  pixel775  pixel776  pixel777  pixel778  pixel779  pixel780  \\\n",
       "0       0  ...         0         0         0         0         0         0   \n",
       "1       0  ...         0         0         0         0         0         0   \n",
       "2       0  ...         0         0         0        30        43         0   \n",
       "3       0  ...         3         0         0         0         0         1   \n",
       "4       0  ...         0         0         0         0         0         0   \n",
       "\n",
       "   pixel781  pixel782  pixel783  pixel784  \n",
       "0         0         0         0         0  \n",
       "1         0         0         0         0  \n",
       "2         0         0         0         0  \n",
       "3         0         0         0         0  \n",
       "4         0         0         0         0  \n",
       "\n",
       "[5 rows x 785 columns]"
      ]
     },
     "execution_count": 26,
     "metadata": {},
     "output_type": "execute_result"
    }
   ],
   "source": [
    "train_df = pd.read_csv('data/fashion-mnist_train.csv')\n",
    "test_df = pd.read_csv('data/fashion-mnist_test.csv')\n",
    "\n",
    "train_df.head()"
   ]
  },
  {
   "cell_type": "markdown",
   "id": "f5aef345",
   "metadata": {},
   "source": [
    "## Подготовка данных и разбиение на тестовую, валидационную и тренировочную выборку"
   ]
  },
  {
   "cell_type": "code",
   "execution_count": 27,
   "id": "94cf1022",
   "metadata": {},
   "outputs": [],
   "source": [
    "train_data = np.array(train_df, dtype='float32')\n",
    "test_data = np.array(test_df, dtype='float32')\n",
    "\n",
    "x_train = train_data[:, 1:]/255\n",
    "y_train = train_data[:, 0]\n",
    "\n",
    "x_test = test_data[:, 1:]/255\n",
    "y_test = test_data[:, 0]"
   ]
  },
  {
   "cell_type": "code",
   "execution_count": 28,
   "id": "27058b18",
   "metadata": {},
   "outputs": [],
   "source": [
    "x_train, x_validate, y_train, y_validate = train_test_split(\n",
    "    x_train,\n",
    "    y_train,\n",
    "    test_size=0.2,\n",
    "    random_state=12,\n",
    ")"
   ]
  },
  {
   "cell_type": "code",
   "execution_count": 29,
   "id": "1cec7600",
   "metadata": {},
   "outputs": [],
   "source": [
    "scores = {}\n",
    "history_ = {}\n",
    "cnn_models = []\n",
    "boards = []"
   ]
  },
  {
   "cell_type": "markdown",
   "id": "c771a901",
   "metadata": {},
   "source": [
    "## Создание и тренировка модели логистической регрессии"
   ]
  },
  {
   "cell_type": "code",
   "execution_count": 31,
   "id": "a4a33c4c",
   "metadata": {},
   "outputs": [
    {
     "name": "stdout",
     "output_type": "stream",
     "text": [
      "Epoch 1/10\n",
      "1500/1500 [==============================] - 5s 3ms/step - loss: 1.1251 - accuracy: 0.6547 - val_loss: 0.6782 - val_accuracy: 0.7766\n",
      "Epoch 2/10\n",
      "1500/1500 [==============================] - 4s 2ms/step - loss: 0.6407 - accuracy: 0.7916 - val_loss: 0.6001 - val_accuracy: 0.7990\n",
      "Epoch 3/10\n",
      "1500/1500 [==============================] - 3s 2ms/step - loss: 0.5713 - accuracy: 0.8129 - val_loss: 0.5598 - val_accuracy: 0.8127\n",
      "Epoch 4/10\n",
      "1500/1500 [==============================] - 3s 2ms/step - loss: 0.5355 - accuracy: 0.8223 - val_loss: 0.5376 - val_accuracy: 0.8196\n",
      "Epoch 5/10\n",
      "1500/1500 [==============================] - 5s 3ms/step - loss: 0.5226 - accuracy: 0.8257 - val_loss: 0.5223 - val_accuracy: 0.8228\n",
      "Epoch 6/10\n",
      "1500/1500 [==============================] - 6s 4ms/step - loss: 0.5030 - accuracy: 0.8327 - val_loss: 0.5103 - val_accuracy: 0.8235\n",
      "Epoch 7/10\n",
      "1500/1500 [==============================] - 4s 3ms/step - loss: 0.4978 - accuracy: 0.8311 - val_loss: 0.5038 - val_accuracy: 0.8279\n",
      "Epoch 8/10\n",
      "1500/1500 [==============================] - 5s 3ms/step - loss: 0.4817 - accuracy: 0.8400 - val_loss: 0.4961 - val_accuracy: 0.8270\n",
      "Epoch 9/10\n",
      "1500/1500 [==============================] - 5s 3ms/step - loss: 0.4748 - accuracy: 0.8393 - val_loss: 0.4875 - val_accuracy: 0.8309\n",
      "Epoch 10/10\n",
      "1500/1500 [==============================] - 4s 2ms/step - loss: 0.4724 - accuracy: 0.8411 - val_loss: 0.4819 - val_accuracy: 0.8313\n",
      "313/313 [==============================] - 1s 2ms/step - loss: 0.4737 - accuracy: 0.8436\n"
     ]
    }
   ],
   "source": [
    "lr_model = tf.keras.models.Sequential([\n",
    "    tf.keras.layers.Dense(10, activation='softmax'),\n",
    "], name='Logistic_Regression')\n",
    "\n",
    "lr_tensorboard = tf.keras.callbacks.TensorBoard(\n",
    "    log_dir=f'logs/{lr_model.name}',\n",
    ")\n",
    "\n",
    "lr_model.compile(\n",
    "    optimizer='sgd',\n",
    "    loss='sparse_categorical_crossentropy',\n",
    "    metrics=['accuracy']\n",
    ")\n",
    "lr_history = lr_model.fit(\n",
    "    x_train,\n",
    "    y_train,\n",
    "    epochs=10,\n",
    "    validation_data=(x_validate, y_validate),\n",
    "    callbacks=[lr_tensorboard]\n",
    ")\n",
    "lr_score = lr_model.evaluate(x_test, y_test)\n",
    "scores[lr_model.name] = lr_score\n",
    "history_[lr_model.name] = lr_history"
   ]
  },
  {
   "cell_type": "markdown",
   "id": "9cfef9ee",
   "metadata": {},
   "source": [
    "## Создание и тренировка полносвязной НС"
   ]
  },
  {
   "cell_type": "code",
   "execution_count": 32,
   "id": "44d27f5a",
   "metadata": {},
   "outputs": [
    {
     "name": "stdout",
     "output_type": "stream",
     "text": [
      "Epoch 1/10\n",
      "1500/1500 [==============================] - 15s 10ms/step - loss: 0.6503 - accuracy: 0.7657 - val_loss: 0.4543 - val_accuracy: 0.8326\n",
      "Epoch 2/10\n",
      "1500/1500 [==============================] - 14s 10ms/step - loss: 0.4114 - accuracy: 0.8481 - val_loss: 0.3960 - val_accuracy: 0.8483\n",
      "Epoch 3/10\n",
      "1500/1500 [==============================] - 15s 10ms/step - loss: 0.3758 - accuracy: 0.8617 - val_loss: 0.3605 - val_accuracy: 0.8625\n",
      "Epoch 4/10\n",
      "1500/1500 [==============================] - 19s 13ms/step - loss: 0.3508 - accuracy: 0.8721 - val_loss: 0.3513 - val_accuracy: 0.8683\n",
      "Epoch 5/10\n",
      "1500/1500 [==============================] - 16s 11ms/step - loss: 0.3320 - accuracy: 0.8764 - val_loss: 0.3634 - val_accuracy: 0.8656\n",
      "Epoch 6/10\n",
      "1500/1500 [==============================] - 15s 10ms/step - loss: 0.3205 - accuracy: 0.8826 - val_loss: 0.3414 - val_accuracy: 0.8697\n",
      "Epoch 7/10\n",
      "1500/1500 [==============================] - 15s 10ms/step - loss: 0.3129 - accuracy: 0.8823 - val_loss: 0.3641 - val_accuracy: 0.8698\n",
      "Epoch 8/10\n",
      "1500/1500 [==============================] - 15s 10ms/step - loss: 0.3068 - accuracy: 0.8851 - val_loss: 0.3379 - val_accuracy: 0.8748\n",
      "Epoch 9/10\n",
      "1500/1500 [==============================] - 15s 10ms/step - loss: 0.2968 - accuracy: 0.8897 - val_loss: 0.3366 - val_accuracy: 0.8774\n",
      "Epoch 10/10\n",
      "1500/1500 [==============================] - 15s 10ms/step - loss: 0.2834 - accuracy: 0.8952 - val_loss: 0.3263 - val_accuracy: 0.8838\n",
      "313/313 [==============================] - 2s 6ms/step - loss: 0.3136 - accuracy: 0.8869\n"
     ]
    }
   ],
   "source": [
    "fc_model = tf.keras.models.Sequential([\n",
    "    tf.keras.layers.Dense(512, activation='relu', input_shape=(784,)),\n",
    "    tf.keras.layers.Dropout(0.2),\n",
    "    tf.keras.layers.Dense(512, activation='relu'),\n",
    "    tf.keras.layers.Dropout(0.2),\n",
    "    tf.keras.layers.Dense(10, activation='softmax')\n",
    "], name='Fully_Connected_NN')\n",
    "\n",
    "fc_tensorboard = tf.keras.callbacks.TensorBoard(\n",
    "    log_dir=f'logs/{fc_model.name}'\n",
    ")\n",
    "\n",
    "fc_model.compile(\n",
    "    loss='sparse_categorical_crossentropy',\n",
    "    optimizer='adam',\n",
    "    metrics=['accuracy']\n",
    ")\n",
    "fc_history = fc_model.fit(\n",
    "    x_train,\n",
    "    y_train,\n",
    "    epochs=10,\n",
    "    validation_data=(x_validate, y_validate),\n",
    "    callbacks=[fc_tensorboard]\n",
    ")\n",
    "fc_score = fc_model.evaluate(x_test, y_test)\n",
    "\n",
    "scores[fc_model.name] = fc_score\n",
    "history_[fc_model.name] = fc_history"
   ]
  },
  {
   "cell_type": "markdown",
   "id": "bafea90b",
   "metadata": {},
   "source": [
    "## Изменение размерности данных для сверточной НС"
   ]
  },
  {
   "cell_type": "code",
   "execution_count": 33,
   "id": "46293a4c",
   "metadata": {},
   "outputs": [],
   "source": [
    "x_train = x_train.reshape(x_train.shape[0], 28, 28, 1)\n",
    "x_validate = x_validate.reshape(x_validate.shape[0], 28, 28, 1)\n",
    "x_test = x_test.reshape(x_test.shape[0], 28, 28, 1)"
   ]
  },
  {
   "cell_type": "markdown",
   "id": "faae7d4c",
   "metadata": {},
   "source": [
    "## Создание и тренировка сверточной НС с одним сверточным слоем, одним слоем субдискретизации и одним полносвязным слоем"
   ]
  },
  {
   "cell_type": "code",
   "execution_count": 34,
   "id": "771f3c0a",
   "metadata": {},
   "outputs": [],
   "source": [
    "cnn_model = tf.keras.models.Sequential([\n",
    "    tf.keras.layers.InputLayer((28, 28, 1)),\n",
    "    tf.keras.layers.Conv2D(32, 3, activation='relu'),\n",
    "    tf.keras.layers.MaxPool2D(pool_size=(2,2)),\n",
    "    tf.keras.layers.Flatten(),\n",
    "    tf.keras.layers.Dense(64, activation='relu'),\n",
    "    tf.keras.layers.Dense(10, activation='softmax')\n",
    "], name='1_Layer_CNN')\n",
    "\n",
    "cnn_models.append(cnn_model)"
   ]
  },
  {
   "cell_type": "markdown",
   "id": "d5609c32",
   "metadata": {},
   "source": [
    "## Добавляем еще 2 сверточных слоя и слой субдискетизации"
   ]
  },
  {
   "cell_type": "code",
   "execution_count": 35,
   "id": "f85d1d4c",
   "metadata": {},
   "outputs": [],
   "source": [
    "cnn_model_3_layer = tf.keras.models.Sequential([\n",
    "    tf.keras.layers.InputLayer((28, 28, 1)),\n",
    "    tf.keras.layers.Conv2D(32, 3, activation='relu'),\n",
    "    tf.keras.layers.MaxPool2D(pool_size=(2,2)),\n",
    "    tf.keras.layers.Dropout(0.2),\n",
    "    tf.keras.layers.Conv2D(64, 3, activation='relu'),\n",
    "    tf.keras.layers.MaxPool2D(pool_size=(2,2)),\n",
    "    tf.keras.layers.Dropout(0.2),\n",
    "    tf.keras.layers.Conv2D(128, 3, activation='relu'),\n",
    "    tf.keras.layers.Flatten(),\n",
    "    tf.keras.layers.Dense(128, activation='relu'),\n",
    "    tf.keras.layers.Dense(10, activation='softmax')\n",
    "], name='3_Layer_CNN')\n",
    "\n",
    "cnn_models.append(cnn_model_3_layer)"
   ]
  },
  {
   "cell_type": "markdown",
   "id": "3718e93a",
   "metadata": {},
   "source": [
    "## Добавляем несколько слоев Batch Normalization"
   ]
  },
  {
   "cell_type": "code",
   "execution_count": 36,
   "id": "ee109809",
   "metadata": {},
   "outputs": [],
   "source": [
    "cnn_model_with_batch_norm = tf.keras.models.Sequential([\n",
    "    tf.keras.layers.InputLayer((28, 28, 1)),\n",
    "    tf.keras.layers.Conv2D(32, 3, activation='relu'),\n",
    "    tf.keras.layers.MaxPool2D(pool_size=(2,2)),\n",
    "    tf.keras.layers.Dropout(0.2),\n",
    "    tf.keras.layers.Conv2D(64, 3, activation='relu'),\n",
    "    tf.keras.layers.MaxPool2D(pool_size=(2,2)),\n",
    "    tf.keras.layers.Dropout(0.2),\n",
    "    tf.keras.layers.Conv2D(128, 3, activation='relu'),\n",
    "    tf.keras.layers.BatchNormalization(),\n",
    "    tf.keras.layers.Flatten(),\n",
    "    tf.keras.layers.Dense(128, activation='relu'),\n",
    "    tf.keras.layers.BatchNormalization(),\n",
    "    tf.keras.layers.Dense(10, activation='softmax')\n",
    "], name='3L_CNN_with_Batch_Normalization')\n",
    "\n",
    "cnn_models.append(cnn_model_with_batch_norm)"
   ]
  },
  {
   "cell_type": "markdown",
   "id": "78d92e7a",
   "metadata": {},
   "source": [
    "## Тренировка полученных моделей"
   ]
  },
  {
   "cell_type": "code",
   "execution_count": 37,
   "id": "0858512e",
   "metadata": {},
   "outputs": [
    {
     "name": "stdout",
     "output_type": "stream",
     "text": [
      "Epoch 1/10\n",
      "1500/1500 [==============================] - 37s 24ms/step - loss: 0.5872 - accuracy: 0.7975 - val_loss: 0.3486 - val_accuracy: 0.8791\n",
      "Epoch 2/10\n",
      "1500/1500 [==============================] - 35s 24ms/step - loss: 0.3045 - accuracy: 0.8945 - val_loss: 0.3023 - val_accuracy: 0.8925\n",
      "Epoch 3/10\n",
      "1500/1500 [==============================] - 35s 23ms/step - loss: 0.2474 - accuracy: 0.9111 - val_loss: 0.2819 - val_accuracy: 0.8979\n",
      "Epoch 4/10\n",
      "1500/1500 [==============================] - 41s 27ms/step - loss: 0.2195 - accuracy: 0.9199 - val_loss: 0.2740 - val_accuracy: 0.9018\n",
      "Epoch 5/10\n",
      "1500/1500 [==============================] - 39s 26ms/step - loss: 0.1898 - accuracy: 0.9301 - val_loss: 0.2712 - val_accuracy: 0.9027\n",
      "Epoch 6/10\n",
      "1500/1500 [==============================] - 41s 27ms/step - loss: 0.1668 - accuracy: 0.9385 - val_loss: 0.2671 - val_accuracy: 0.9051\n",
      "Epoch 7/10\n",
      "1500/1500 [==============================] - 39s 26ms/step - loss: 0.1443 - accuracy: 0.9466 - val_loss: 0.2848 - val_accuracy: 0.9038\n",
      "Epoch 8/10\n",
      "1500/1500 [==============================] - 39s 26ms/step - loss: 0.1282 - accuracy: 0.9544 - val_loss: 0.3164 - val_accuracy: 0.8952\n",
      "Epoch 9/10\n",
      "1500/1500 [==============================] - 42s 28ms/step - loss: 0.1148 - accuracy: 0.9587 - val_loss: 0.2914 - val_accuracy: 0.9058\n",
      "Epoch 10/10\n",
      "1500/1500 [==============================] - 44s 29ms/step - loss: 0.0981 - accuracy: 0.9642 - val_loss: 0.3024 - val_accuracy: 0.9077\n",
      "Epoch 1/10\n",
      "1500/1500 [==============================] - 50s 33ms/step - loss: 0.7530 - accuracy: 0.7164 - val_loss: 0.3974 - val_accuracy: 0.8548\n",
      "Epoch 2/10\n",
      "1500/1500 [==============================] - 54s 36ms/step - loss: 0.3671 - accuracy: 0.8647 - val_loss: 0.3276 - val_accuracy: 0.8814\n",
      "Epoch 3/10\n",
      "1500/1500 [==============================] - 49s 33ms/step - loss: 0.3132 - accuracy: 0.8833 - val_loss: 0.3214 - val_accuracy: 0.8752\n",
      "Epoch 4/10\n",
      "1500/1500 [==============================] - 48s 32ms/step - loss: 0.2778 - accuracy: 0.8961 - val_loss: 0.2945 - val_accuracy: 0.8944\n",
      "Epoch 5/10\n",
      "1500/1500 [==============================] - 49s 32ms/step - loss: 0.2591 - accuracy: 0.9029 - val_loss: 0.2811 - val_accuracy: 0.8935\n",
      "Epoch 6/10\n",
      "1500/1500 [==============================] - 54s 36ms/step - loss: 0.2471 - accuracy: 0.9066 - val_loss: 0.2588 - val_accuracy: 0.9051\n",
      "Epoch 7/10\n",
      "1500/1500 [==============================] - 57s 38ms/step - loss: 0.2268 - accuracy: 0.9161 - val_loss: 0.2905 - val_accuracy: 0.8967\n",
      "Epoch 8/10\n",
      "1500/1500 [==============================] - 47s 32ms/step - loss: 0.2135 - accuracy: 0.9187 - val_loss: 0.2680 - val_accuracy: 0.8992\n",
      "Epoch 9/10\n",
      "1500/1500 [==============================] - 48s 32ms/step - loss: 0.1979 - accuracy: 0.9261 - val_loss: 0.2463 - val_accuracy: 0.9091\n",
      "Epoch 10/10\n",
      "1500/1500 [==============================] - 49s 33ms/step - loss: 0.1932 - accuracy: 0.9275 - val_loss: 0.2601 - val_accuracy: 0.9067\n",
      "Epoch 1/10\n",
      "1500/1500 [==============================] - 47s 31ms/step - loss: 0.6719 - accuracy: 0.7553 - val_loss: 0.4483 - val_accuracy: 0.8343\n",
      "Epoch 2/10\n",
      "1500/1500 [==============================] - 50s 33ms/step - loss: 0.3541 - accuracy: 0.8726 - val_loss: 0.3037 - val_accuracy: 0.8864\n",
      "Epoch 3/10\n",
      "1500/1500 [==============================] - 50s 34ms/step - loss: 0.3125 - accuracy: 0.8859 - val_loss: 0.3150 - val_accuracy: 0.8812\n",
      "Epoch 4/10\n",
      "1500/1500 [==============================] - 51s 34ms/step - loss: 0.2859 - accuracy: 0.8963 - val_loss: 0.2878 - val_accuracy: 0.8912\n",
      "Epoch 5/10\n",
      "1500/1500 [==============================] - 52s 34ms/step - loss: 0.2673 - accuracy: 0.9003 - val_loss: 0.2968 - val_accuracy: 0.8878\n",
      "Epoch 6/10\n",
      "1500/1500 [==============================] - 52s 35ms/step - loss: 0.2526 - accuracy: 0.9049 - val_loss: 0.2542 - val_accuracy: 0.9069\n",
      "Epoch 7/10\n",
      "1500/1500 [==============================] - 52s 35ms/step - loss: 0.2356 - accuracy: 0.9144 - val_loss: 0.2675 - val_accuracy: 0.8999\n",
      "Epoch 8/10\n",
      "1500/1500 [==============================] - 50s 33ms/step - loss: 0.2253 - accuracy: 0.9171 - val_loss: 0.2569 - val_accuracy: 0.9068\n",
      "Epoch 9/10\n",
      "1500/1500 [==============================] - 48s 32ms/step - loss: 0.2144 - accuracy: 0.9183 - val_loss: 0.2645 - val_accuracy: 0.9018\n",
      "Epoch 10/10\n",
      "1500/1500 [==============================] - 51s 34ms/step - loss: 0.2099 - accuracy: 0.9234 - val_loss: 0.2406 - val_accuracy: 0.9137\n"
     ]
    }
   ],
   "source": [
    "for model in cnn_models:\n",
    "    board = tf.keras.callbacks.TensorBoard(\n",
    "        log_dir=f'logs/{model.name}'\n",
    "    )\n",
    "    \n",
    "    model.compile(\n",
    "        loss='sparse_categorical_crossentropy',\n",
    "        optimizer='adam',\n",
    "        metrics=['accuracy']\n",
    "    )\n",
    "    his = model.fit(\n",
    "        x_train,\n",
    "        y_train,\n",
    "        epochs=10,\n",
    "        validation_data=(x_validate, y_validate),\n",
    "        callbacks=[board]\n",
    "    )\n",
    "    scores[model.name] = model.evaluate(x_test, y_test, verbose=0)\n",
    "    history_[model.name] = his"
   ]
  },
  {
   "cell_type": "markdown",
   "id": "bc0d2542",
   "metadata": {},
   "source": [
    "## Accuracy и Loss каждой модели на тестовых данных"
   ]
  },
  {
   "cell_type": "code",
   "execution_count": 38,
   "id": "bed429e9",
   "metadata": {},
   "outputs": [
    {
     "data": {
      "text/html": [
       "<div>\n",
       "<style scoped>\n",
       "    .dataframe tbody tr th:only-of-type {\n",
       "        vertical-align: middle;\n",
       "    }\n",
       "\n",
       "    .dataframe tbody tr th {\n",
       "        vertical-align: top;\n",
       "    }\n",
       "\n",
       "    .dataframe thead th {\n",
       "        text-align: right;\n",
       "    }\n",
       "</style>\n",
       "<table border=\"1\" class=\"dataframe\">\n",
       "  <thead>\n",
       "    <tr style=\"text-align: right;\">\n",
       "      <th></th>\n",
       "      <th>Logistic_Regression</th>\n",
       "      <th>Fully_Connected_NN</th>\n",
       "      <th>1_Layer_CNN</th>\n",
       "      <th>3_Layer_CNN</th>\n",
       "      <th>3L_CNN_with_Batch_Normalization</th>\n",
       "    </tr>\n",
       "  </thead>\n",
       "  <tbody>\n",
       "    <tr>\n",
       "      <th>loss</th>\n",
       "      <td>0.473718</td>\n",
       "      <td>0.313597</td>\n",
       "      <td>0.28605</td>\n",
       "      <td>0.242409</td>\n",
       "      <td>0.219351</td>\n",
       "    </tr>\n",
       "    <tr>\n",
       "      <th>accuracy</th>\n",
       "      <td>0.843600</td>\n",
       "      <td>0.886900</td>\n",
       "      <td>0.91520</td>\n",
       "      <td>0.910200</td>\n",
       "      <td>0.919500</td>\n",
       "    </tr>\n",
       "  </tbody>\n",
       "</table>\n",
       "</div>"
      ],
      "text/plain": [
       "          Logistic_Regression  Fully_Connected_NN  1_Layer_CNN  3_Layer_CNN  \\\n",
       "loss                 0.473718            0.313597      0.28605     0.242409   \n",
       "accuracy             0.843600            0.886900      0.91520     0.910200   \n",
       "\n",
       "          3L_CNN_with_Batch_Normalization  \n",
       "loss                             0.219351  \n",
       "accuracy                         0.919500  "
      ]
     },
     "execution_count": 38,
     "metadata": {},
     "output_type": "execute_result"
    }
   ],
   "source": [
    "stats = pd.DataFrame(scores, index=['loss', 'accuracy'])\n",
    "stats"
   ]
  },
  {
   "cell_type": "code",
   "execution_count": 39,
   "id": "90a8d616",
   "metadata": {},
   "outputs": [],
   "source": [
    "%matplotlib inline"
   ]
  },
  {
   "cell_type": "markdown",
   "id": "21497eb3",
   "metadata": {},
   "source": [
    "## График зависимости accuracy от количества эпох для каждой модели на валидационных данных"
   ]
  },
  {
   "cell_type": "code",
   "execution_count": 50,
   "id": "3692735f",
   "metadata": {},
   "outputs": [
    {
     "data": {
      "image/png": "[encoded data removed]",
      "text/plain": [
       "<Figure size 720x576 with 1 Axes>"
      ]
     },
     "metadata": {
      "needs_background": "light"
     },
     "output_type": "display_data"
    }
   ],
   "source": [
    "plt.figure(figsize=(10, 8))\n",
    "for h in history_:\n",
    "    val_acc = history_[h].history['val_accuracy']\n",
    "    plt.plot(val_acc, label=h)\n",
    "plt.ylabel('validation accuracy')\n",
    "plt.xlabel('epochs')\n",
    "plt.legend()\n",
    "plt.show()"
   ]
  },
  {
   "cell_type": "markdown",
   "id": "6561e255",
   "metadata": {},
   "source": [
    "По графикам и таблице с метриками разных моделей можно увидеть, что логистическая регрессия заметно уступает остальным моделям. В то же время полносвязная нейронная сеть дает не такой точный результат, как модели сверточных НН. На тестовых данных лучший показатель accuracy у трехслойной сверточной сети с Batch Normalization."
   ]
  },
  {
   "cell_type": "markdown",
   "id": "adad9b9f",
   "metadata": {},
   "source": [
    "## Те же графики в Tensorboard"
   ]
  },
  {
   "cell_type": "code",
   "execution_count": 53,
   "id": "f56ab70d",
   "metadata": {},
   "outputs": [
    {
     "data": {
      "text/html": [
       "\n",
       "      <iframe id=\"tensorboard-frame-c6bb2933ed08bef3\" width=\"100%\" height=\"800\" frameborder=\"0\">\n",
       "      </iframe>\n",
       "      <script>\n",
       "        (function() {\n",
       "          const frame = document.getElementById(\"tensorboard-frame-c6bb2933ed08bef3\");\n",
       "          const url = new URL(\"/\", window.location);\n",
       "          const port = 6006;\n",
       "          if (port) {\n",
       "            url.port = port;\n",
       "          }\n",
       "          frame.src = url;\n",
       "        })();\n",
       "      </script>\n",
       "    "
      ],
      "text/plain": [
       "<IPython.core.display.HTML object>"
      ]
     },
     "metadata": {},
     "output_type": "display_data"
    }
   ],
   "source": [
    "%load_ext tensorboard\n",
    "%tensorboard --logdir logs/"
   ]
  },
  {
   "cell_type": "code",
   "execution_count": null,
   "id": "f70bb016",
   "metadata": {},
   "outputs": [],
   "source": []
  }
 ],
 "metadata": {
  "kernelspec": {
   "display_name": "Python 3",
   "language": "python",
   "name": "python3"
  },
  "language_info": {
   "codemirror_mode": {
    "name": "ipython",
    "version": 3
   },
   "file_extension": ".py",
   "mimetype": "text/x-python",
   "name": "python",
   "nbconvert_exporter": "python",
   "pygments_lexer": "ipython3",
   "version": "3.8.8"
  }
 },
 "nbformat": 4,
 "nbformat_minor": 5
}
